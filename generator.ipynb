{
  "nbformat": 4,
  "nbformat_minor": 0,
  "metadata": {
    "colab": {
      "name": "generator.ipynb",
      "provenance": [],
      "collapsed_sections": [],
      "authorship_tag": "ABX9TyOc25v3B4nIDu2OJpcF8Uj2",
      "include_colab_link": true
    },
    "kernelspec": {
      "name": "python3",
      "display_name": "Python 3"
    }
  },
  "cells": [
    {
      "cell_type": "markdown",
      "metadata": {
        "id": "view-in-github",
        "colab_type": "text"
      },
      "source": [
        "<a href=\"https://colab.research.google.com/github/shivamsouravjha/Toonification/blob/main/generator.ipynb\" target=\"_parent\"><img src=\"https://colab.research.google.com/assets/colab-badge.svg\" alt=\"Open In Colab\"/></a>"
      ]
    },
    {
      "cell_type": "code",
      "metadata": {
        "id": "H6m8DcTWW8QG"
      },
      "source": [
        "from tensorflow import keras\n",
        "import cv2\n",
        "from keras.models import Model\n",
        "from keras.callbacks import TensorBoard\n",
        "\n",
        "from keras.models import load_model\n",
        "import math\n",
        "import numpy as np\n",
        "import pathlib\n",
        "import h5py\n",
        "import matplotlib.pyplot as plt\n",
        "import tensorflow as tf\n",
        "from sklearn.model_selection import train_test_split\n",
        "from tensorflow.python.framework import ops\n",
        "from keras.models import Sequential # to create a cnn model\n",
        "from keras.layers import Input, Add, Dense, Activation, ZeroPadding2D, BatchNormalization, Flatten, Conv2D, AveragePooling2D, MaxPooling2D, GlobalMaxPooling2D,UpSampling2D\n",
        "from keras.preprocessing.image import ImageDataGenerator\n",
        "from keras.optimizers import RMSprop,Adam,SGD,Adagrad,Adadelta,Adamax,Nadam\n",
        "from keras.applications import xception\n",
        "from keras.layers import LeakyReLU\n"
      ],
      "execution_count": 31,
      "outputs": []
    },
    {
      "cell_type": "code",
      "metadata": {
        "id": "JN-SV5omvGvH"
      },
      "source": [
        "def boxx(a ,k,n,s):\n",
        "  x1 = Conv2D(n, (k ,1), padding='same',strides=(s,s))(a)\n",
        "  x1 = LeakyReLU()(x1)\n",
        "  return x1, x1"
      ],
      "execution_count": 32,
      "outputs": []
    },
    {
      "cell_type": "code",
      "metadata": {
        "id": "SNAZ2WyezQEs"
      },
      "source": [
        "def boxy(a,b,k,n,s):\n",
        "  x1 = Conv2D(n, (k ,1), padding='same',strides=(s,s))(a)\n",
        "  x1 = LeakyReLU()(x1)\n",
        "  x1 = Conv2D(n, (k ,1), padding='same',strides=(s,s))(x1)\n",
        "  x1 = Add()([x1,b])\n",
        "  return x1, x1\n"
      ],
      "execution_count": 33,
      "outputs": []
    },
    {
      "cell_type": "code",
      "metadata": {
        "id": "0g2UdoB1m5AY"
      },
      "source": [
        "input_img = Input(shape=(64,64,1))\n",
        "\n"
      ],
      "execution_count": 34,
      "outputs": []
    },
    {
      "cell_type": "code",
      "metadata": {
        "id": "93FOPYfLxMXq"
      },
      "source": [
        "a0,b0  = boxx(input_img,7,32,1)  #block 1"
      ],
      "execution_count": 35,
      "outputs": []
    },
    {
      "cell_type": "code",
      "metadata": {
        "id": "fUj1bpjAxK2t"
      },
      "source": [
        "a1 = boxx(a0,3,32,2)[0]            #block 2(a)\n",
        "a2,b2 = boxx(a1,3,64,1)             #block 2(B)"
      ],
      "execution_count": 36,
      "outputs": []
    },
    {
      "cell_type": "code",
      "metadata": {
        "id": "ILUTfOc5yFRW"
      },
      "source": [
        "a3 = boxx(a2,3,32,2)[0]            #block 3(a)\n",
        "a4,b4 = boxx(a3,3,128,1)             #block 3(B)"
      ],
      "execution_count": 39,
      "outputs": []
    },
    {
      "cell_type": "code",
      "metadata": {
        "id": "cVGcgPhGyuS1"
      },
      "source": [
        " a5,b5 = boxy(a3,a4,3,128,1)          #block 4"
      ],
      "execution_count": 40,
      "outputs": []
    },
    {
      "cell_type": "code",
      "metadata": {
        "id": "B2nBZ2Kl0WPt"
      },
      "source": [
        " a6,b6 = boxy(a5,a5,3,128,1)          #block 5"
      ],
      "execution_count": null,
      "outputs": []
    },
    {
      "cell_type": "code",
      "metadata": {
        "id": "0n7mIC3Q0Xar"
      },
      "source": [
        " a7,b7 = boxy(a6,a6,3,128,1)          #block 6"
      ],
      "execution_count": null,
      "outputs": []
    },
    {
      "cell_type": "code",
      "metadata": {
        "id": "hwGmrzlL0YLr"
      },
      "source": [
        " a8,b8 = boxy(a7,a7,3,128,1)          #block 7"
      ],
      "execution_count": null,
      "outputs": []
    },
    {
      "cell_type": "code",
      "metadata": {
        "id": "myuleLH00ZNc"
      },
      "source": [
        "a3 = boxx(a2,3,32,2)[0]            #block 3(a)\n",
        "a4,b4 = boxx(a3,3,64,1)             #block 3(B)"
      ],
      "execution_count": null,
      "outputs": []
    },
    {
      "cell_type": "code",
      "metadata": {
        "id": "UIYh5Cxt0Y1b"
      },
      "source": [
        "a3 = boxx(a2,3,32,2)[0]            #block 3(a)\n",
        "a4,b4 = boxx(a3,3,64,1)             #block 3(B)"
      ],
      "execution_count": null,
      "outputs": []
    },
    {
      "cell_type": "code",
      "metadata": {
        "id": "FEfg6Ffhwr72"
      },
      "source": [
        "autoencoder =Model(input_img,boxx(input_img,7,32,1)[0])"
      ],
      "execution_count": null,
      "outputs": []
    },
    {
      "cell_type": "code",
      "metadata": {
        "id": "_l3JRW76s3wH"
      },
      "source": [
        "autoencoder = Model(input_img, x1)"
      ],
      "execution_count": null,
      "outputs": []
    },
    {
      "cell_type": "code",
      "metadata": {
        "id": "Cvx6Zjhws3Cn"
      },
      "source": [
        "\n",
        "from tensorflow.keras.utils import plot_model\n",
        "plot_model(autoencoder, to_file='model.png', show_shapes=True, show_layer_names=True)\n",
        "from IPython.display import Image\n",
        "Image(\"model.png\")"
      ],
      "execution_count": null,
      "outputs": []
    }
  ]
}